{
 "cells": [
  {
   "cell_type": "code",
   "execution_count": null,
   "metadata": {},
   "outputs": [],
   "source": [
    "import pandas as pd\n",
    "import numpy as np\n",
    "import scipy as sp\n",
    "import chart_studio.plotly as py"
   ]
  },
  {
   "cell_type": "code",
   "execution_count": null,
   "metadata": {},
   "outputs": [],
   "source": [
    "from dataclasses import dataclass\n",
    "import sys\n",
    "from itertools import groupby\n",
    "from random import random, choice\n",
    "\n",
    "\n",
    "@dataclass\n",
    "class Person:\n",
    "    infected_on_day: int = -999\n",
    "\n",
    "    def __post_init__(self):\n",
    "        if random() < 0.1:\n",
    "            self.outcome = \"dead\"\n",
    "        else:\n",
    "            self.outcome = \"recovered\"\n",
    "\n",
    "    def expose(self, today):\n",
    "        if self.infected_on_day == -999:\n",
    "            self.infected_on_day = today\n",
    "\n",
    "    def is_infected(self, today):\n",
    "        if self.infected_on_day == -999:\n",
    "            return False\n",
    "        days_since_infection = today - self.infected_on_day\n",
    "        return days_since_infection < 14\n",
    "\n",
    "    def is_contagious(self, today):\n",
    "        if self.infected_on_day == -999:\n",
    "            return False\n",
    "        days_since_infection = today - self.infected_on_day\n",
    "        return 1 < days_since_infection < 10\n",
    "\n",
    "    def state(self, today):\n",
    "        if self.is_infected(today=today):\n",
    "            if self.is_contagious(today=today):\n",
    "                return \"contagious\"\n",
    "            return \"not contagious\"\n",
    "        if self.infected_on_day == -999:\n",
    "            return \"uninfected\"\n",
    "        return self.outcome\n",
    "\n",
    "\n",
    "@dataclass\n",
    "class Sim:\n",
    "    today: int = 0\n",
    "    population: int = 10000\n",
    "    initial_exposed: int = 100\n",
    "    infection_chance: float = 0.10\n",
    "    previous_infection_chance: float = 0.30\n",
    "    max_days: int = 100\n",
    "\n",
    "    def tick(self, chance):\n",
    "        self.today = self.today + 1\n",
    "        for person in self.people:\n",
    "            if person.is_contagious(today=self.today) and random() < chance:\n",
    "                choice(self.people).expose(today=self.today)\n",
    "\n",
    "    def run(self):\n",
    "        infected = 0\n",
    "        while infected == 0:\n",
    "            self.people = []\n",
    "            for _ in range(self.population):\n",
    "                self.people.append(Person())\n",
    "\n",
    "            result = []\n",
    "            self.people[0].expose(today=self.today)  # patient zero\n",
    "            for _ in range(self.max_days):\n",
    "                self.tick(chance=self.previous_infection_chance)\n",
    "                keyfunc = lambda x: x.state(today=self.today)\n",
    "                summ = groupby(sorted(self.people, key=keyfunc), keyfunc)\n",
    "                infected = sum([len(list(v)) for k, v in summ if \"contagious\" in k])\n",
    "                if infected >= self.initial_exposed:\n",
    "                    break\n",
    "\n",
    "        # reset day count\n",
    "        for person in self.people:\n",
    "            if person.infected_on_day > -999:\n",
    "                person.infected_on_day -= self.today\n",
    "        self.today = 0\n",
    "\n",
    "        for _ in range(self.max_days):\n",
    "            self.tick(chance=self.infection_chance)\n",
    "            keyfunc = lambda x: x.state(today=self.today)\n",
    "            summ = groupby(sorted(self.people, key=keyfunc), keyfunc)\n",
    "            infected = sum([len(list(v)) for k, v in summ if \"contagious\" in k])\n",
    "            result.append(infected)\n",
    "        return result\n"
   ]
  },
  {
   "cell_type": "code",
   "execution_count": null,
   "metadata": {},
   "outputs": [],
   "source": [
    "max_days=200\n",
    "n_sims = 1"
   ]
  },
  {
   "cell_type": "code",
   "execution_count": null,
   "metadata": {},
   "outputs": [],
   "source": [
    "dates = pd.date_range('20200301', periods=max_days, freq='d')"
   ]
  },
  {
   "cell_type": "code",
   "execution_count": null,
   "metadata": {},
   "outputs": [],
   "source": [
    "# runs = pd.DataFrame(index=dates, data={f\"sim {_}\": Sim(max_days=max_days, infection_chance=0.10).run() for _ in range(n_sims)})"
   ]
  },
  {
   "cell_type": "code",
   "execution_count": null,
   "metadata": {},
   "outputs": [],
   "source": [
    "series = pd.Series(name=\"sim\", index=dates, data=Sim(max_days=max_days, infection_chance=0.05).run())"
   ]
  },
  {
   "cell_type": "code",
   "execution_count": null,
   "metadata": {
    "scrolled": false
   },
   "outputs": [],
   "source": [
    "import plotly.express as px\n",
    "fig = px.line(series, y=\"sim\", x=series.index)\n",
    "fig.show()"
   ]
  },
  {
   "cell_type": "code",
   "execution_count": null,
   "metadata": {},
   "outputs": [],
   "source": []
  }
 ],
 "metadata": {
  "kernelspec": {
   "display_name": "Python 3",
   "language": "python",
   "name": "python3"
  },
  "language_info": {
   "codemirror_mode": {
    "name": "ipython",
    "version": 3
   },
   "file_extension": ".py",
   "mimetype": "text/x-python",
   "name": "python",
   "nbconvert_exporter": "python",
   "pygments_lexer": "ipython3",
   "version": "3.8.1"
  }
 },
 "nbformat": 4,
 "nbformat_minor": 4
}
